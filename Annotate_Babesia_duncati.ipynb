{
 "cells": [
  {
   "cell_type": "markdown",
   "id": "ce6d7697",
   "metadata": {},
   "source": [
    "# Annotating the representative genome of *Paramecium tetraurelia*\n",
    "\n",
    "*Paramecium tetraurelia strain d4-2* has a very small so-called macronulear genome. This is not the kind of genome that we usually expect to see, but for its size, it makes a good example for our workshop (0.98 Mb). \n",
    "  \n",
    "Our task is today to annotate this with several methods: BRAKER3, BRAKER2, BRAKER1, GALBA, and possibly TSEBRA combinations of the beforementioned, and (a) produce a high quality annotation in a fully automated way, and (b) find out which method produces best results.\n",
    "\n",
    "## Data\n",
    "\n",
    "The genome is available at [/home/genomics/workshop_material/genome_annotation/genome/genome.fa](/home/genomics/workshop_material/genome_annotation/genome/genome.fa). We will be using the repeat masking provided by NCBI.\n",
    "\n",
    "There are many Illumina RNA-Seq libraries listed for this species at the [Sequence Read Archive](https://www.ncbi.nlm.nih.gov/sra). It is not feasible that we download and align all of them. Therefore, we have randomly selected SRR19666444, aligned it to the genome with Hisat2, converted the ouput to bam-format with samtools, and sorted the bam file. The output is provided at [/home/genomics/workshop_material/genome_annotation/sra/SRR19666444.s.bam](/home/genomics/workshop_material/genome_annotation/sra/SRR19666444.s.bam).\n",
    "\n",
    "In terms of OrthoDB taxonomy, the Alveolata partition is \"the closest\" for this species, available at [/home/genomics/workshop_material/genome_annotation/orthodb/Alveolata.fa](/home/genomics/workshop_material/genome_annotation/orthodb/Alveolata.fa). This is a rather \"small\" partition, and a priori, we do not know whether it will be sufficient for running BRAKER3 or BRAKER2 if used as the only protein input.\n",
    "\n",
    "Proteomes of close relatives (for GALBA) are  These protein sets have been downloaded, concatenated, and the fasta entries have been replaced by short, simple, and unique headers. The resulting file to be used with GALBA is available at [/home/genomics/workshop_material/genome_annotation/proteins/proteins.fa](/home/genomics/workshop_material/genome_annotation/proteins/proteins.fa)\n",
    "\n",
    "## Group assignment\n",
    "\n",
    "Runtime is a serious issue. Therefore, you are split into 4 different groups, and you will only complete the task of the group that you were assigned to. Execute the following code cell once to see which group are in:"
   ]
  },
  {
   "cell_type": "code",
   "execution_count": null,
   "id": "d96887ed",
   "metadata": {},
   "outputs": [],
   "source": [
    "import random\n",
    "print(\"You are in group \", random.randint(1,5))"
   ]
  },
  {
   "cell_type": "markdown",
   "id": "11603735",
   "metadata": {},
   "source": [
    "For all tasks, there is a possibility of failure. Should your task fail (e.g. because not sufficient evidence was provided), pick a new group by re-executing the above code cell.\n",
    "\n",
    "## Questions to all groups (with respect to the assigned task)\n",
    "\n",
    "1. After executing the annotation task assigned to you, apply BUSCO to estimate proteome completentess (use [/home/genomics/workshop_material/genome_annotation/alveolata_odb10](/home/genomics/workshop_material/genome_annotation/alveolata_odb10)). What are the BUSCO scores?\n",
    "\n",
    "2. How many genes and how many transcripts are predicted?\n",
    "\n",
    "3. How is the mono:mult ratio? \n",
    "\n",
    "4. What is the median number of exons per transcript? \n",
    "\n",
    "5. What is the largest number of exons in a transcript?\n",
    "\n",
    "## Task for group 1: Apply GALBA\n",
    "\n",
    "Use the following code cell to implement the application of GALBA, and execute GALBA. Use the genome file and the proteins.fa file mentioned, above. Apply `--skipOptimize`. "
   ]
  },
  {
   "cell_type": "code",
   "execution_count": 1,
   "id": "5dfea1b4",
   "metadata": {},
   "outputs": [
    {
     "name": "stdout",
     "output_type": "stream",
     "text": [
      "# Fri May  5 16:31:07 2023: Log information is stored in file /home/katharina/git/GenomeAnnotation_Workshop2023/GALBA_param/GALBA.log\n"
     ]
    },
    {
     "name": "stderr",
     "output_type": "stream",
     "text": [
      "warning: Coverage appears to be high, --ignoreCoverage flag will be ignored \n",
      "# Fri May  5 16:32:23 2023: ERROR: in file /opt/GALBA/scripts/galba.pl at line 3975\n",
      "Training gene file in genbank format /home/katharina/git/GenomeAnnotation_Workshop2023/GALBA_param/train.ff.gb does not contain any training genes. At this stage, we performed a filtering step that discarded all genes that lead to etraining errors. If you lost all training genes, now, that means you probably have an extremely fragmented assembly where all training genes are incomplete, or similar.\n",
      "# Fri May  5 16:32:23 2023: ERROR: in file /opt/GALBA/scripts/galba.pl at line 3975\n",
      "Training gene file in genbank format /home/katharina/git/GenomeAnnotation_Workshop2023/GALBA_param/train.ff.gb does not contain any training genes. At this stage, we performed a filtering step that discarded all genes that lead to etraining errors. If you lost all training genes, now, that means you probably have an extremely fragmented assembly where all training genes are incomplete, or similar.\n",
      "\n",
      "real\t1m16.321s\n",
      "user\t4m16.485s\n",
      "sys\t0m3.180s\n"
     ]
    }
   ],
   "source": [
    "%%script bash\n",
    "T=4 # adjust to number of threads that you booted with\n",
    "\n",
    "# delete output from a possible previous run if it exists\n",
    "if [ -d GALBA_param ]\n",
    "then\n",
    "    rm -rf GALBA_param\n",
    "fi\n",
    "\n",
    "time galba.pl --workingdir=GALBA_param --genome=/home/genomics/workshop_material/genome_annotation/genome/genome.fa \\\n",
    "    --prot_seq=/home/genomics/workshop_material/genome_annotation/proteins/proteins.fa \\\n",
    "    --AUGUSTUS_BIN_PATH=/usr/bin/ --AUGUSTUS_SCRIPTS_PATH=/usr/share/augustus/scripts/ --threads ${T} \\\n",
    "    --skipOptimize \\ # remember to remove both options if you are running a real job\n",
    "    2> galba.log"
   ]
  },
  {
   "cell_type": "code",
   "execution_count": null,
   "id": "d16bccba",
   "metadata": {},
   "outputs": [],
   "source": [
    "%%script bash\n",
    "\n",
    "T=4 # adjust to number of threads that you booted with\n",
    "\n",
    "source conda_init\n",
    "conda activate busco_env\n",
    "\n",
    "cd GALBA_param\n",
    "# create links if not already present\n",
    "if [ ! -d busco_downloads ]\n",
    "then\n",
    "    mkdir busco_downloads\n",
    "    cd busco_downloads\n",
    "    if [ ! -L metazoa_odb10 ]\n",
    "    then\n",
    "        ln -s /home/genomics/workshop_material/genome_annotation/busco/metazoa_odb10 metazoa_odb10\n",
    "    fi\n",
    "fi\n",
    "\n",
    "# delete old output if existing\n",
    "if [ -d busco_${g} ]\n",
    "then\n",
    "    rm -r busco_${g}\n",
    "fi\n",
    "# run BUSCO\n",
    "busco -m proteins -i augustus.hints.aa -o busco_galba_augustus \\\n",
    "        -l metazoa_odb10 -c ${T} &> busco_galba_augustus.log\n",
    "done\n",
    "\n",
    "# Count number of transcripts by counting FASTA headers\n",
    "echo \"Counting number of protein sequences = transcripts\"\n",
    "grep -c \">\" augustus.hints.aa\n",
    "\n",
    "# Number of genes, and descriptive statistics\n",
    "echo \"Computing some descriptive statistics for GALBA:\"\n",
    "analyze_exons.py -f galba.gtf"
   ]
  },
  {
   "cell_type": "markdown",
   "id": "b78c11f1",
   "metadata": {},
   "source": [
    "## Task for group 2: Apply BRAKER3\n",
    "\n",
    "Use the following code cell to implement the application of BRAKER3, and execute BRAKER3. Use the genome file, the OrthoDB Metazoa file, the proteins.fa file, and the Merged.bam file mentioned, above. Apply `--skipOptimize`. Do not apply `--gm_max_intergenic 10000`. Expected runtime 10 minutes. If you find the BRAKER gene set of poor quality, consider using TSEBRA, manually."
   ]
  },
  {
   "cell_type": "code",
   "execution_count": 2,
   "id": "e76205db",
   "metadata": {},
   "outputs": [
    {
     "name": "stderr",
     "output_type": "stream",
     "text": [
      "#**********************************************************************************\n",
      "#                               BRAKER CONFIGURATION                               \n",
      "#**********************************************************************************\n",
      "# BRAKER CALL: /opt/BRAKER/scripts/braker.pl --workingdir=BRAKER3_hymenolepsis --genome=/home/genomics/workshop_material/genome_annotation/genome/genome.fa --bam=/home/genomics/workshop_material/genome_annotation/sra/SRR19666444.s.bam --prot_seq=/home/genomics/workshop_material/genome_annotation/orthodb/Alveolata.fa,/home/genomics/workshop_material/genome_annotation/proteins/proteins.fa --AUGUSTUS_BIN_PATH=/usr/bin/ --AUGUSTUS_SCRIPTS_PATH=/usr/share/augustus/scripts/ --threads 4 --skipOptimize\n",
      "# Fri May  5 16:36:00 2023: braker.pl version 3.0.3\n",
      "# Fri May  5 16:36:00 2023: Creating directory /home/katharina/git/GenomeAnnotation_Workshop2023/BRAKER3_hymenolepsis.\n",
      "# Fri May  5 16:36:00 2023: Creating directory /home/katharina/git/GenomeAnnotation_Workshop2023/BRAKER3_hymenolepsis.\n",
      "# Fri May  5 16:36:00 2023:Both protein and RNA-Seq data in input detected. BRAKER will be executed in ETP mode (BRAKER3).\n",
      "#*********\n",
      "# Fri May  5 16:36:00 2023: Configuring of BRAKER for using external tools...\n",
      "# Fri May  5 16:36:00 2023: Trying to set $AUGUSTUS_CONFIG_PATH...\n",
      "# Fri May  5 16:36:00 2023: Found environment variable $AUGUSTUS_CONFIG_PATH.\n",
      "# Fri May  5 16:36:00 2023: Checking /usr/share/augustus/config/ as potential path for $AUGUSTUS_CONFIG_PATH.\n",
      "# Fri May  5 16:36:00 2023: Success! Setting $AUGUSTUS_CONFIG_PATH to /usr/share/augustus/config/!\n",
      "# Fri May  5 16:36:00 2023: WARNING: in file /opt/BRAKER/scripts/braker.pl at line 1894\n",
      "AUGUSTUS_CONFIG_PATH/species (in this case /usr/share/augustus/config//species) is not writeable. BRAKER will try to copy the AUGUSTUS config directory to a writeable location.\n"
     ]
    },
    {
     "name": "stdout",
     "output_type": "stream",
     "text": [
      "# Fri May  5 16:36:00 2023: Creating directory /home/katharina/git/GenomeAnnotation_Workshop2023/BRAKER3_hymenolepsis.\n",
      "# Fri May  5 16:36:00 2023:Both protein and RNA-Seq data in input detected. BRAKER will be executed in ETP mode (BRAKER3).\n",
      "#*********\n",
      "# Fri May  5 16:36:00 2023: Log information is stored in file /home/katharina/git/GenomeAnnotation_Workshop2023/BRAKER3_hymenolepsis/braker.log\n"
     ]
    },
    {
     "name": "stderr",
     "output_type": "stream",
     "text": [
      "#*********\n",
      "# WARNING: Detected whitespace in fasta header of file /home/genomics/workshop_material/genome_annotation/orthodb/Alveolata.fa. This may later on cause problems! The pipeline will create a new file without spaces or \"|\" characters and a genome_header.map file to look up the old and new headers. This message will be suppressed from now on!\n",
      "#*********\n",
      "ERROR in file /opt/BRAKER/scripts/braker.pl at line 5473\n",
      "Failed to execute: /usr/bin/perl /opt/ETP/bin/gmetp.pl --cfg /home/katharina/git/GenomeAnnotation_Workshop2023/BRAKER3_hymenolepsis/GeneMark-ETP/etp_config.yaml --workdir /home/katharina/git/GenomeAnnotation_Workshop2023/BRAKER3_hymenolepsis/GeneMark-ETP --bam /home/katharina/git/GenomeAnnotation_Workshop2023/BRAKER3_hymenolepsis/GeneMark-ETP/etp_data/ --cores 4 --softmask  1>/home/katharina/git/GenomeAnnotation_Workshop2023/BRAKER3_hymenolepsis/errors/GeneMark-ETP.stdout 2>/home/katharina/git/GenomeAnnotation_Workshop2023/BRAKER3_hymenolepsis/errors/GeneMark-ETP.stderr\n",
      "Failed to execute: /usr/bin/perl /opt/ETP/bin/gmetp.pl --cfg /home/katharina/git/GenomeAnnotation_Workshop2023/BRAKER3_hymenolepsis/GeneMark-ETP/etp_config.yaml --workdir /home/katharina/git/GenomeAnnotation_Workshop2023/BRAKER3_hymenolepsis/GeneMark-ETP --bam /home/katharina/git/GenomeAnnotation_Workshop2023/BRAKER3_hymenolepsis/GeneMark-ETP/etp_data/ --cores 4 --softmask  1>/home/katharina/git/GenomeAnnotation_Workshop2023/BRAKER3_hymenolepsis/errors/GeneMark-ETP.stdout 2>/home/katharina/git/GenomeAnnotation_Workshop2023/BRAKER3_hymenolepsis/errors/GeneMark-ETP.stderr\n",
      "The most common problem is an expired or not present file ~/.gm_key or that GeneMark-ETP didn't receive enough evidence from the input data, in this case, see errors/GeneMark-ETP.stderr!\n",
      "\n",
      "real\t6m36.953s\n",
      "user\t12m27.843s\n",
      "sys\t0m15.411s\n"
     ]
    },
    {
     "ename": "CalledProcessError",
     "evalue": "Command 'b'\\nT=4 # adjust to number of threads that you booted with, takes ~30 minutes with 4 threads\\n\\n# delete output from a possible previous run if it exists\\nif [ -d BRAKER3_param ]\\nthen\\n    rm -rf BRAKER3_param\\nfi\\n\\nORTHODB=/home/genomics/workshop_material/genome_annotation/orthodb/Alveolata.fa # adjust to suitable clade\\n\\n# run BRAKER3\\ntime braker.pl --workingdir=BRAKER3_hymenolepsis --genome=/home/genomics/workshop_material/genome_annotation/genome/genome.fa \\\\\\n    --bam=/home/genomics/workshop_material/genome_annotation/sra/SRR19666444.s.bam \\\\\\n    --prot_seq=${ORTHODB},/home/genomics/workshop_material/genome_annotation/proteins/proteins.fa \\\\\\n    --AUGUSTUS_BIN_PATH=/usr/bin/ \\\\\\n    --AUGUSTUS_SCRIPTS_PATH=/usr/share/augustus/scripts/ --threads ${T} \\\\\\n    --skipOptimize\\n'' returned non-zero exit status 1.",
     "output_type": "error",
     "traceback": [
      "\u001b[0;31m---------------------------------------------------------------------------\u001b[0m",
      "\u001b[0;31mCalledProcessError\u001b[0m                        Traceback (most recent call last)",
      "Cell \u001b[0;32mIn[2], line 1\u001b[0m\n\u001b[0;32m----> 1\u001b[0m \u001b[43mget_ipython\u001b[49m\u001b[43m(\u001b[49m\u001b[43m)\u001b[49m\u001b[38;5;241;43m.\u001b[39;49m\u001b[43mrun_cell_magic\u001b[49m\u001b[43m(\u001b[49m\u001b[38;5;124;43m'\u001b[39;49m\u001b[38;5;124;43mscript\u001b[39;49m\u001b[38;5;124;43m'\u001b[39;49m\u001b[43m,\u001b[49m\u001b[43m \u001b[49m\u001b[38;5;124;43m'\u001b[39;49m\u001b[38;5;124;43mbash\u001b[39;49m\u001b[38;5;124;43m'\u001b[39;49m\u001b[43m,\u001b[49m\u001b[43m \u001b[49m\u001b[38;5;124;43m'\u001b[39;49m\u001b[38;5;130;43;01m\\n\u001b[39;49;00m\u001b[38;5;124;43mT=4 # adjust to number of threads that you booted with, takes ~30 minutes with 4 threads\u001b[39;49m\u001b[38;5;130;43;01m\\n\u001b[39;49;00m\u001b[38;5;130;43;01m\\n\u001b[39;49;00m\u001b[38;5;124;43m# delete output from a possible previous run if it exists\u001b[39;49m\u001b[38;5;130;43;01m\\n\u001b[39;49;00m\u001b[38;5;124;43mif [ -d BRAKER3_param ]\u001b[39;49m\u001b[38;5;130;43;01m\\n\u001b[39;49;00m\u001b[38;5;124;43mthen\u001b[39;49m\u001b[38;5;130;43;01m\\n\u001b[39;49;00m\u001b[38;5;124;43m    rm -rf BRAKER3_param\u001b[39;49m\u001b[38;5;130;43;01m\\n\u001b[39;49;00m\u001b[38;5;124;43mfi\u001b[39;49m\u001b[38;5;130;43;01m\\n\u001b[39;49;00m\u001b[38;5;130;43;01m\\n\u001b[39;49;00m\u001b[38;5;124;43mORTHODB=/home/genomics/workshop_material/genome_annotation/orthodb/Alveolata.fa # adjust to suitable clade\u001b[39;49m\u001b[38;5;130;43;01m\\n\u001b[39;49;00m\u001b[38;5;130;43;01m\\n\u001b[39;49;00m\u001b[38;5;124;43m# run BRAKER3\u001b[39;49m\u001b[38;5;130;43;01m\\n\u001b[39;49;00m\u001b[38;5;124;43mtime braker.pl --workingdir=BRAKER3_hymenolepsis --genome=/home/genomics/workshop_material/genome_annotation/genome/genome.fa \u001b[39;49m\u001b[38;5;130;43;01m\\\\\u001b[39;49;00m\u001b[38;5;130;43;01m\\n\u001b[39;49;00m\u001b[38;5;124;43m    --bam=/home/genomics/workshop_material/genome_annotation/sra/SRR19666444.s.bam \u001b[39;49m\u001b[38;5;130;43;01m\\\\\u001b[39;49;00m\u001b[38;5;130;43;01m\\n\u001b[39;49;00m\u001b[38;5;124;43m    --prot_seq=$\u001b[39;49m\u001b[38;5;132;43;01m{ORTHODB}\u001b[39;49;00m\u001b[38;5;124;43m,/home/genomics/workshop_material/genome_annotation/proteins/proteins.fa \u001b[39;49m\u001b[38;5;130;43;01m\\\\\u001b[39;49;00m\u001b[38;5;130;43;01m\\n\u001b[39;49;00m\u001b[38;5;124;43m    --AUGUSTUS_BIN_PATH=/usr/bin/ \u001b[39;49m\u001b[38;5;130;43;01m\\\\\u001b[39;49;00m\u001b[38;5;130;43;01m\\n\u001b[39;49;00m\u001b[38;5;124;43m    --AUGUSTUS_SCRIPTS_PATH=/usr/share/augustus/scripts/ --threads $\u001b[39;49m\u001b[38;5;132;43;01m{T}\u001b[39;49;00m\u001b[38;5;124;43m \u001b[39;49m\u001b[38;5;130;43;01m\\\\\u001b[39;49;00m\u001b[38;5;130;43;01m\\n\u001b[39;49;00m\u001b[38;5;124;43m    --skipOptimize\u001b[39;49m\u001b[38;5;130;43;01m\\n\u001b[39;49;00m\u001b[38;5;124;43m'\u001b[39;49m\u001b[43m)\u001b[49m\n",
      "File \u001b[0;32m/opt/conda/lib/python3.10/site-packages/IPython/core/interactiveshell.py:2430\u001b[0m, in \u001b[0;36mInteractiveShell.run_cell_magic\u001b[0;34m(self, magic_name, line, cell)\u001b[0m\n\u001b[1;32m   2428\u001b[0m \u001b[38;5;28;01mwith\u001b[39;00m \u001b[38;5;28mself\u001b[39m\u001b[38;5;241m.\u001b[39mbuiltin_trap:\n\u001b[1;32m   2429\u001b[0m     args \u001b[38;5;241m=\u001b[39m (magic_arg_s, cell)\n\u001b[0;32m-> 2430\u001b[0m     result \u001b[38;5;241m=\u001b[39m \u001b[43mfn\u001b[49m\u001b[43m(\u001b[49m\u001b[38;5;241;43m*\u001b[39;49m\u001b[43margs\u001b[49m\u001b[43m,\u001b[49m\u001b[43m \u001b[49m\u001b[38;5;241;43m*\u001b[39;49m\u001b[38;5;241;43m*\u001b[39;49m\u001b[43mkwargs\u001b[49m\u001b[43m)\u001b[49m\n\u001b[1;32m   2432\u001b[0m \u001b[38;5;66;03m# The code below prevents the output from being displayed\u001b[39;00m\n\u001b[1;32m   2433\u001b[0m \u001b[38;5;66;03m# when using magics with decodator @output_can_be_silenced\u001b[39;00m\n\u001b[1;32m   2434\u001b[0m \u001b[38;5;66;03m# when the last Python token in the expression is a ';'.\u001b[39;00m\n\u001b[1;32m   2435\u001b[0m \u001b[38;5;28;01mif\u001b[39;00m \u001b[38;5;28mgetattr\u001b[39m(fn, magic\u001b[38;5;241m.\u001b[39mMAGIC_OUTPUT_CAN_BE_SILENCED, \u001b[38;5;28;01mFalse\u001b[39;00m):\n",
      "File \u001b[0;32m/opt/conda/lib/python3.10/site-packages/IPython/core/magics/script.py:305\u001b[0m, in \u001b[0;36mScriptMagics.shebang\u001b[0;34m(self, line, cell)\u001b[0m\n\u001b[1;32m    300\u001b[0m \u001b[38;5;28;01mif\u001b[39;00m args\u001b[38;5;241m.\u001b[39mraise_error \u001b[38;5;129;01mand\u001b[39;00m p\u001b[38;5;241m.\u001b[39mreturncode \u001b[38;5;241m!=\u001b[39m \u001b[38;5;241m0\u001b[39m:\n\u001b[1;32m    301\u001b[0m     \u001b[38;5;66;03m# If we get here and p.returncode is still None, we must have\u001b[39;00m\n\u001b[1;32m    302\u001b[0m     \u001b[38;5;66;03m# killed it but not yet seen its return code. We don't wait for it,\u001b[39;00m\n\u001b[1;32m    303\u001b[0m     \u001b[38;5;66;03m# in case it's stuck in uninterruptible sleep. -9 = SIGKILL\u001b[39;00m\n\u001b[1;32m    304\u001b[0m     rc \u001b[38;5;241m=\u001b[39m p\u001b[38;5;241m.\u001b[39mreturncode \u001b[38;5;129;01mor\u001b[39;00m \u001b[38;5;241m-\u001b[39m\u001b[38;5;241m9\u001b[39m\n\u001b[0;32m--> 305\u001b[0m     \u001b[38;5;28;01mraise\u001b[39;00m CalledProcessError(rc, cell)\n",
      "\u001b[0;31mCalledProcessError\u001b[0m: Command 'b'\\nT=4 # adjust to number of threads that you booted with, takes ~30 minutes with 4 threads\\n\\n# delete output from a possible previous run if it exists\\nif [ -d BRAKER3_param ]\\nthen\\n    rm -rf BRAKER3_param\\nfi\\n\\nORTHODB=/home/genomics/workshop_material/genome_annotation/orthodb/Alveolata.fa # adjust to suitable clade\\n\\n# run BRAKER3\\ntime braker.pl --workingdir=BRAKER3_hymenolepsis --genome=/home/genomics/workshop_material/genome_annotation/genome/genome.fa \\\\\\n    --bam=/home/genomics/workshop_material/genome_annotation/sra/SRR19666444.s.bam \\\\\\n    --prot_seq=${ORTHODB},/home/genomics/workshop_material/genome_annotation/proteins/proteins.fa \\\\\\n    --AUGUSTUS_BIN_PATH=/usr/bin/ \\\\\\n    --AUGUSTUS_SCRIPTS_PATH=/usr/share/augustus/scripts/ --threads ${T} \\\\\\n    --skipOptimize\\n'' returned non-zero exit status 1."
     ]
    }
   ],
   "source": [
    "%%script bash\n",
    "\n",
    "T=4 # adjust to number of threads that you booted with, takes ~30 minutes with 4 threads\n",
    "\n",
    "# delete output from a possible previous run if it exists\n",
    "if [ -d BRAKER3_param ]\n",
    "then\n",
    "    rm -rf BRAKER3_param\n",
    "fi\n",
    "\n",
    "ORTHODB=/home/genomics/workshop_material/genome_annotation/orthodb/Alveolata.fa # adjust to suitable clade\n",
    "\n",
    "# run BRAKER3\n",
    "time braker.pl --workingdir=BRAKER3_param --genome=/home/genomics/workshop_material/genome_annotation/genome/genome.fa \\\n",
    "    --bam=/home/genomics/workshop_material/genome_annotation/sra/SRR19666444.s.bam \\\n",
    "    --prot_seq=${ORTHODB},/home/genomics/workshop_material/genome_annotation/proteins/proteins.fa \\\n",
    "    --AUGUSTUS_BIN_PATH=/usr/bin/ \\\n",
    "    --AUGUSTUS_SCRIPTS_PATH=/usr/share/augustus/scripts/ --threads ${T} \\\n",
    "    --skipOptimize"
   ]
  },
  {
   "cell_type": "code",
   "execution_count": null,
   "id": "9c48050e",
   "metadata": {},
   "outputs": [],
   "source": []
  },
  {
   "cell_type": "markdown",
   "id": "63d27777",
   "metadata": {},
   "source": [
    "## Task for group 3: Apply BRAKER2\n",
    "\n",
    "Use the following code cell to implement the application of BRAKER2, and execute BRAKER2. Use the genome file, the OrthoDB Metazoa file and the proteins.fa file mentioned, above. Apply `--skipOptimize`. Do not apply `--gm_max_intergenic 10000`. Expected runtime ... If you find the BRAKER gene set of poor quality, consider using TSEBRA, manually."
   ]
  },
  {
   "cell_type": "code",
   "execution_count": null,
   "id": "94c14622",
   "metadata": {},
   "outputs": [],
   "source": [
    "%%script bash\n",
    "\n",
    "T=4 # adjust to number of threads that you booted with, takes ~30 minutes with 4 threads\n",
    "\n",
    "# delete output from a possible previous run if it exists\n",
    "if [ -d BRAKER2_param ]\n",
    "then\n",
    "    rm -rf BRAKER2_param\n",
    "fi\n",
    "\n",
    "ORTHODB=/home/genomics/workshop_material/genome_annotation/orthodb/Alveolata.fa # adjust to suitable clade\n",
    "\n",
    "# run BRAKER2\n",
    "time braker.pl --workingdir=BRAKER2_param --genome=/home/genomics/workshop_material/genome_annotation/genome/genome.fa \\\n",
    "    --prot_seq=${ORTHODB},/home/genomics/workshop_material/genome_annotation/proteins/proteins.fa \\\n",
    "    --AUGUSTUS_BIN_PATH=/usr/bin/ \\\n",
    "    --AUGUSTUS_SCRIPTS_PATH=/usr/share/augustus/scripts/ --threads ${T} \\\n",
    "    --skipOptimize"
   ]
  },
  {
   "cell_type": "markdown",
   "id": "aeafea05",
   "metadata": {},
   "source": [
    "## Task for group 4: Apply BRAKER1\n",
    "\n",
    "Use the following code cell to implement the application of BRAKER1, and execute BRAKER1. Use the genome file and the Merged.bam file mentioned, above. Apply `--skipOptimize`. Do not apply `--gm_max_intergenic 10000`. Expected runtime ... If you find the BRAKER gene set of poor quality, consider using TSEBRA, manually."
   ]
  },
  {
   "cell_type": "code",
   "execution_count": null,
   "id": "2d2d314d",
   "metadata": {},
   "outputs": [],
   "source": [
    "%%script bash\n",
    "\n",
    "T=4 # adjust to number of threads that you booted with, takes ~30 minutes with 4 threads\n",
    "\n",
    "# delete output from a possible previous run if it exists\n",
    "if [ -d BRAKER1_param ]\n",
    "then\n",
    "    rm -rf BRAKER1_param\n",
    "fi\n",
    "\n",
    "# run BRAKER1\n",
    "time braker.pl --workingdir=BRAKER1_param --genome=/home/genomics/workshop_material/genome_annotation/genome/genome.fa \\\n",
    "    --bam=/home/genomics/workshop_material/genome_annotation/sra/SRR19666444.s.bam \\\n",
    "    --AUGUSTUS_BIN_PATH=/usr/bin/ \\\n",
    "    --AUGUSTUS_SCRIPTS_PATH=/usr/share/augustus/scripts/ --threads ${T} \\\n",
    "    --skipOptimize"
   ]
  },
  {
   "cell_type": "code",
   "execution_count": null,
   "id": "1dd1f51a",
   "metadata": {},
   "outputs": [],
   "source": []
  }
 ],
 "metadata": {
  "kernelspec": {
   "display_name": "Python 3 (ipykernel)",
   "language": "python",
   "name": "python3"
  },
  "language_info": {
   "codemirror_mode": {
    "name": "ipython",
    "version": 3
   },
   "file_extension": ".py",
   "mimetype": "text/x-python",
   "name": "python",
   "nbconvert_exporter": "python",
   "pygments_lexer": "ipython3",
   "version": "3.10.9"
  }
 },
 "nbformat": 4,
 "nbformat_minor": 5
}
